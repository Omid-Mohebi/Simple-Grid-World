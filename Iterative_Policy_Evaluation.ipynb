{
 "cells": [
  {
   "cell_type": "code",
   "execution_count": 1,
   "metadata": {},
   "outputs": [],
   "source": [
    "import numpy as np"
   ]
  },
  {
   "cell_type": "code",
   "execution_count": 2,
   "metadata": {},
   "outputs": [],
   "source": [
    "actions = ['up', 'down', 'left', 'right']\n",
    "row = 3\n",
    "column = 4\n",
    "start_state = (2, 0)\n",
    "win_state = (0, 3)\n",
    "lose_state = (1, 3)\n",
    "wall = (1, 1)\n",
    "policy = np.random.choice(actions, (row, column))\n",
    "v_s = np.zeros((row, column))\n",
    "tetha = 1e-5\n",
    "gamma = 0.9"
   ]
  },
  {
   "cell_type": "code",
   "execution_count": 3,
   "metadata": {},
   "outputs": [],
   "source": [
    "def move(a, r, c):\n",
    "    current_state = (r, c)\n",
    "    if current_state == wall:\n",
    "        return current_state\n",
    "    new_r, new_c = r, c\n",
    "    if a == 'up':\n",
    "        new_r = max(r-1, 0)\n",
    "    elif a == 'down':\n",
    "        new_r = min(r+1, row-1)\n",
    "    elif a == 'right':\n",
    "        new_c = min(c+1, column-1)\n",
    "    elif a == 'left':\n",
    "        new_c = max(c-1, 0)\n",
    "    new_state = (new_r, new_c)\n",
    "    if new_state == wall:\n",
    "        return current_state\n",
    "    else:\n",
    "        return new_state"
   ]
  },
  {
   "cell_type": "code",
   "execution_count": 4,
   "metadata": {},
   "outputs": [],
   "source": [
    "def end_game(state):\n",
    "    return state == win_state or state == lose_state"
   ]
  },
  {
   "cell_type": "code",
   "execution_count": 5,
   "metadata": {},
   "outputs": [],
   "source": [
    "def reward(state):\n",
    "    if state == win_state:\n",
    "        return 1\n",
    "    elif state == lose_state:\n",
    "        return -1\n",
    "    return -0.04"
   ]
  },
  {
   "cell_type": "code",
   "execution_count": 6,
   "metadata": {},
   "outputs": [],
   "source": [
    "def policy_ev():\n",
    "    global v_s\n",
    "    while True:\n",
    "        delta = 0\n",
    "        for r in range(row):\n",
    "            for c in range(column):\n",
    "                state = (r, c)\n",
    "                if end_game(state):\n",
    "                    v_s[r, c] = reward(state)\n",
    "                    continue\n",
    "                old_v = v_s[r, c]\n",
    "                a = policy[r, c]\n",
    "                s = move(a, r, c)\n",
    "                v_s[r, c] = reward(s) + gamma * v_s[s]\n",
    "                delta = max(delta, abs(old_v - v_s[r, c]))\n",
    "        if delta < tetha:\n",
    "            break"
   ]
  },
  {
   "cell_type": "code",
   "execution_count": 7,
   "metadata": {},
   "outputs": [],
   "source": [
    "def policy_im():\n",
    "    global policy\n",
    "    policy_stable = True\n",
    "    for r in range(row):\n",
    "        for c in range(column):\n",
    "            state = (r, c)\n",
    "            if end_game(state):\n",
    "                continue\n",
    "            old_a = policy[r, c]\n",
    "            max_v = -np.inf\n",
    "            for a in actions:\n",
    "                s = move(a, r, c)\n",
    "                v = reward(s) + gamma * v_s[s]\n",
    "                if v > max_v:\n",
    "                    max_v = v\n",
    "                    best_action = a\n",
    "            if old_a != best_action:\n",
    "                policy[r, c] = best_action\n",
    "                policy_stable = False\n",
    "    return policy_stable"
   ]
  },
  {
   "cell_type": "code",
   "execution_count": 8,
   "metadata": {},
   "outputs": [],
   "source": [
    "for i in range(1000):\n",
    "    policy_ev()\n",
    "    if policy_im():\n",
    "        break"
   ]
  },
  {
   "cell_type": "code",
   "execution_count": 9,
   "metadata": {},
   "outputs": [],
   "source": [
    "def print_policy():\n",
    "    for r in range(row):\n",
    "        for c in range(column):\n",
    "            if (r, c) == win_state:\n",
    "                print('W', end=' ')\n",
    "            elif (r, c) == lose_state:\n",
    "                print('L', end=' ')\n",
    "            elif (r, c) == wall:\n",
    "                print('#', end=' ')\n",
    "            else:\n",
    "                print(policy[r, c][0].upper(), end=' ')\n",
    "        print()"
   ]
  },
  {
   "cell_type": "code",
   "execution_count": 10,
   "metadata": {},
   "outputs": [
    {
     "name": "stdout",
     "output_type": "stream",
     "text": [
      "R R R W \n",
      "U # U L \n",
      "U R U L \n"
     ]
    }
   ],
   "source": [
    "print_policy()"
   ]
  },
  {
   "cell_type": "code",
   "execution_count": 11,
   "metadata": {},
   "outputs": [
    {
     "name": "stdout",
     "output_type": "stream",
     "text": [
      "optimal value function:\n",
      "[[ 1.463       1.67        1.9         1.        ]\n",
      " [ 1.2767     -0.39995356  1.67       -1.        ]\n",
      " [ 1.10903     1.2767      1.463       1.2767    ]]\n",
      "optimal policy:\n",
      "[['right' 'right' 'right' 'down']\n",
      " ['up' 'up' 'up' 'up']\n",
      " ['up' 'right' 'up' 'left']]\n"
     ]
    }
   ],
   "source": [
    "print('optimal value function:')\n",
    "print(v_s)\n",
    "print('optimal policy:')\n",
    "print(policy)"
   ]
  },
  {
   "cell_type": "code",
   "execution_count": null,
   "metadata": {},
   "outputs": [],
   "source": []
  }
 ],
 "metadata": {
  "kernelspec": {
   "display_name": "Python 3",
   "language": "python",
   "name": "python3"
  },
  "language_info": {
   "codemirror_mode": {
    "name": "ipython",
    "version": 3
   },
   "file_extension": ".py",
   "mimetype": "text/x-python",
   "name": "python",
   "nbconvert_exporter": "python",
   "pygments_lexer": "ipython3",
   "version": "3.12.7"
  }
 },
 "nbformat": 4,
 "nbformat_minor": 2
}
